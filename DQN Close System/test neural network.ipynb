{
 "cells": [
  {
   "cell_type": "code",
   "execution_count": 5,
   "id": "martial-budget",
   "metadata": {},
   "outputs": [],
   "source": [
    "from tensorflow.keras import models, layers, optimizers"
   ]
  },
  {
   "cell_type": "code",
   "execution_count": 10,
   "id": "measured-devon",
   "metadata": {},
   "outputs": [],
   "source": [
    "class DenseNetwork(models.Model):\n",
    "    \n",
    "    def __init__(self,input_sz, output_sz, hidden_sz):\n",
    "        super(DenseNetwork, self).__init__()\n",
    "        self.input_layer = layers.InputLayer(input_shape=(input_sz,))\n",
    "        self.hidden_layer = [layers.Dense(i, activation='relu') for i in hidden_sz]\n",
    "        self.output_layer = layers.Dense(output_sz, activation = 'linear')\n",
    "        \n",
    "    def call(self, x):\n",
    "        x = self.input_layer(x)\n",
    "        for l in self.hidden_layer:\n",
    "            x = l(x)\n",
    "        return self.output_layer(x)"
   ]
  },
  {
   "cell_type": "code",
   "execution_count": 15,
   "id": "thousand-option",
   "metadata": {},
   "outputs": [],
   "source": [
    "model = DenseNetwork(4,3,[256,256,256,256,256])"
   ]
  },
  {
   "cell_type": "code",
   "execution_count": 18,
   "id": "nonprofit-courage",
   "metadata": {},
   "outputs": [],
   "source": [
    "model.load_weights('test.h5')"
   ]
  },
  {
   "cell_type": "code",
   "execution_count": 17,
   "id": "toxic-yorkshire",
   "metadata": {},
   "outputs": [],
   "source": [
    "model.build((None, 4)) # or .build((x_train.shape))"
   ]
  },
  {
   "cell_type": "code",
   "execution_count": null,
   "id": "subsequent-tribune",
   "metadata": {},
   "outputs": [],
   "source": []
  }
 ],
 "metadata": {
  "kernelspec": {
   "display_name": "Python 3",
   "language": "python",
   "name": "python3"
  },
  "language_info": {
   "codemirror_mode": {
    "name": "ipython",
    "version": 3
   },
   "file_extension": ".py",
   "mimetype": "text/x-python",
   "name": "python",
   "nbconvert_exporter": "python",
   "pygments_lexer": "ipython3",
   "version": "3.8.5"
  }
 },
 "nbformat": 4,
 "nbformat_minor": 5
}
